{
  "nbformat": 4,
  "nbformat_minor": 0,
  "metadata": {
    "colab": {
      "name": "python Assignment4.ipynb",
      "provenance": [],
      "collapsed_sections": []
    },
    "kernelspec": {
      "name": "python3",
      "display_name": "Python 3"
    }
  },
  "cells": [
    {
      "cell_type": "markdown",
      "metadata": {
        "id": "hRBWeCY_gJ3O",
        "colab_type": "text"
      },
      "source": [
        "1.1 Write a Python Program (with class concepts) to find the area of the triangle using the below formula. area = (s*(s-a)*(s-b)*(s-c))**0.5\n",
        "Function to take the length of the sides of triangle from user should be defined in the parent class and function to calculate the area should be defined in subclass."
      ]
    },
    {
      "cell_type": "code",
      "metadata": {
        "id": "1LPKrpjUgxPd",
        "colab_type": "code",
        "colab": {
          "base_uri": "https://localhost:8080/",
          "height": 86
        },
        "outputId": "9aaed780-3387-4320-ac66-c094e85f80f2"
      },
      "source": [
        "a = int(input(\"Enter the first side: \"))\n",
        "b = int(input(\"Enter the second side: \"))\n",
        "c = int(input(\"Enter the third side: \"))\n",
        "\n",
        "class Triangle:\n",
        "  def __init__(self, a, b, c):\n",
        "    self.a = a\n",
        "    self.b = b\n",
        "    self.c = c\n",
        "  \n",
        "  def area(self):\n",
        "    s = (a + b + c)/2\n",
        "    area = (s*(s-a)*(s-b)*(s-c))**0.5\n",
        "    return str(area)\n",
        "\n",
        "areaOfTriangle = Triangle(a,b,c)\n",
        "areaOfTriangle.area()"
      ],
      "execution_count": null,
      "outputs": [
        {
          "output_type": "stream",
          "text": [
            "Enter the first side: 8\n",
            "Enter the second side: 9\n",
            "Enter the third side: 7\n"
          ],
          "name": "stdout"
        },
        {
          "output_type": "execute_result",
          "data": {
            "application/vnd.google.colaboratory.intrinsic+json": {
              "type": "string"
            },
            "text/plain": [
              "'26.832815729997478'"
            ]
          },
          "metadata": {
            "tags": []
          },
          "execution_count": 30
        }
      ]
    },
    {
      "cell_type": "markdown",
      "metadata": {
        "id": "Ob1pozF4QL3W",
        "colab_type": "text"
      },
      "source": [
        "1.2 Write a function filter_long_words() that takes a list of words and an integer n and return the list of words that are longer than n."
      ]
    },
    {
      "cell_type": "code",
      "metadata": {
        "id": "cc65l64xQPY5",
        "colab_type": "code",
        "colab": {
          "base_uri": "https://localhost:8080/",
          "height": 34
        },
        "outputId": "a50ce13d-e6a5-4de9-c2c0-0d08b11d2a19"
      },
      "source": [
        "words = [\"longer\",\"larger\",\"smaller\",\"lighter\"]\n",
        "n = 6\n",
        "def filter_long_words(words, n):\n",
        "  new_word = []\n",
        "  for word in words:\n",
        "    if len(word) > n:\n",
        "      new_word.append(word)\n",
        "  return new_word\n",
        "filter_long_words(words, n)"
      ],
      "execution_count": null,
      "outputs": [
        {
          "output_type": "execute_result",
          "data": {
            "text/plain": [
              "['smaller', 'lighter']"
            ]
          },
          "metadata": {
            "tags": []
          },
          "execution_count": 14
        }
      ]
    },
    {
      "cell_type": "markdown",
      "metadata": {
        "id": "Pz-yfB2WYfKl",
        "colab_type": "text"
      },
      "source": [
        "2.1 Write a Python program using function concept that maps list of words into a list of integers\n",
        "representing the lengths of the corresponding words.\n",
        "Hint: If a list [ ab,cde,erty] is passed on to the python function output should come as [2,3,4]\n",
        "Here 2,3 and 4 are the lengths of the words in the list."
      ]
    },
    {
      "cell_type": "code",
      "metadata": {
        "id": "4LJLyIjKY_e7",
        "colab_type": "code",
        "colab": {
          "base_uri": "https://localhost:8080/",
          "height": 34
        },
        "outputId": "8b00b22b-0a59-4712-b86d-462509efecb8"
      },
      "source": [
        "def evalLength(lst):\n",
        "  lenList = []\n",
        "  for i in a:\n",
        "    lenList.append(len(i))\n",
        "  return lenList\n",
        "\n",
        "evalLength(['ab', 'cd3', 'erty'])"
      ],
      "execution_count": null,
      "outputs": [
        {
          "output_type": "execute_result",
          "data": {
            "text/plain": [
              "[2, 3, 4]"
            ]
          },
          "metadata": {
            "tags": []
          },
          "execution_count": 6
        }
      ]
    },
    {
      "cell_type": "markdown",
      "metadata": {
        "id": "C75ARhrtdSQY",
        "colab_type": "text"
      },
      "source": [
        "2.2 Write a Python function which takes a character (i.e. a string of length 1) and returns True if it is a vowel, False otherwise."
      ]
    },
    {
      "cell_type": "code",
      "metadata": {
        "id": "z8cPliNydpLl",
        "colab_type": "code",
        "colab": {
          "base_uri": "https://localhost:8080/",
          "height": 34
        },
        "outputId": "2fb16aca-395b-46e5-e45e-5b5ad4729bee"
      },
      "source": [
        "charStr = \"B\"\n",
        "charStr1 = charStr.lower()\n",
        "vowels = ['a','e','i','o','u']\n",
        "def filter_long_words(charStr1, vowels):\n",
        "  if charStr1 in vowels:\n",
        "    return True\n",
        "  else:\n",
        "    return False\n",
        "    \n",
        "filter_long_words(charStr1, vowels)"
      ],
      "execution_count": null,
      "outputs": [
        {
          "output_type": "execute_result",
          "data": {
            "text/plain": [
              "False"
            ]
          },
          "metadata": {
            "tags": []
          },
          "execution_count": 8
        }
      ]
    },
    {
      "cell_type": "markdown",
      "metadata": {
        "id": "T7k_tR7yYYgL",
        "colab_type": "text"
      },
      "source": [
        ""
      ]
    },
    {
      "cell_type": "markdown",
      "metadata": {
        "id": "M-oAiOqd1mW5",
        "colab_type": "text"
      },
      "source": [
        ""
      ]
    }
  ]
}