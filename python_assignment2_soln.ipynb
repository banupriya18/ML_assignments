{
  "nbformat": 4,
  "nbformat_minor": 0,
  "metadata": {
    "colab": {
      "name": "python_assignment2_soln.ipynb",
      "provenance": [],
      "collapsed_sections": []
    },
    "kernelspec": {
      "name": "python3",
      "display_name": "Python 3"
    }
  },
  "cells": [
    {
      "cell_type": "markdown",
      "metadata": {
        "id": "J4RyL47k7YFA",
        "colab_type": "text"
      },
      "source": [
        "***1. Create the below pattern using nested for loop in Python.***\n"
      ]
    },
    {
      "cell_type": "code",
      "metadata": {
        "id": "zI-qafdC4wMT",
        "colab_type": "code",
        "colab": {
          "base_uri": "https://localhost:8080/",
          "height": 369
        },
        "outputId": "9ae636a4-1f71-49d8-c35b-c9ee4ad389e5"
      },
      "source": [
        "num = 10\n",
        "for i in range(num):\n",
        "    for j in range(i):\n",
        "        print(\"* \", end=\"\")\n",
        "    print()\n",
        "for i in range(num):\n",
        "    for k in range(num-i):\n",
        "        print(\"* \", end=\"\")\n",
        "    print()"
      ],
      "execution_count": null,
      "outputs": [
        {
          "output_type": "stream",
          "text": [
            "\n",
            "* \n",
            "* * \n",
            "* * * \n",
            "* * * * \n",
            "* * * * * \n",
            "* * * * * * \n",
            "* * * * * * * \n",
            "* * * * * * * * \n",
            "* * * * * * * * * \n",
            "* * * * * * * * * * \n",
            "* * * * * * * * * \n",
            "* * * * * * * * \n",
            "* * * * * * * \n",
            "* * * * * * \n",
            "* * * * * \n",
            "* * * * \n",
            "* * * \n",
            "* * \n",
            "* \n"
          ],
          "name": "stdout"
        }
      ]
    },
    {
      "cell_type": "markdown",
      "metadata": {
        "id": "42P5YI2I7o0p",
        "colab_type": "text"
      },
      "source": [
        "***2. Write a Python program to reverse a word after accepting the input from the user.***"
      ]
    },
    {
      "cell_type": "code",
      "metadata": {
        "id": "uuGtKAX84zmT",
        "colab_type": "code",
        "colab": {
          "base_uri": "https://localhost:8080/",
          "height": 70
        },
        "outputId": "f42a2137-a24c-4bbd-897e-fba91fb61199"
      },
      "source": [
        "word = input(\"Enter the word: \")\n",
        "reverseWord = word[::-1]\n",
        "print(\"Input Word: \" + word)\n",
        "print(\"Output: \" + reverseWord)"
      ],
      "execution_count": null,
      "outputs": [
        {
          "output_type": "stream",
          "text": [
            "Enter the word: Banupriya\n",
            "Input Word: Banupriya\n",
            "Output: ayirpunaB\n"
          ],
          "name": "stdout"
        }
      ]
    },
    {
      "cell_type": "code",
      "metadata": {
        "id": "5SvFvsUD627c",
        "colab_type": "code",
        "colab": {}
      },
      "source": [
        ""
      ],
      "execution_count": null,
      "outputs": []
    }
  ]
}