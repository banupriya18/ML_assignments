{
  "nbformat": 4,
  "nbformat_minor": 0,
  "metadata": {
    "colab": {
      "name": "python_assignment3.ipynb",
      "provenance": [],
      "collapsed_sections": []
    },
    "kernelspec": {
      "name": "python3",
      "display_name": "Python 3"
    }
  },
  "cells": [
    {
      "cell_type": "markdown",
      "metadata": {
        "id": "sMbkg3fD4sbq",
        "colab_type": "text"
      },
      "source": [
        "1.1 Write a Python program to implement your own myreduce() function which works exactly like Python's built-in function reduce()"
      ]
    },
    {
      "cell_type": "code",
      "metadata": {
        "id": "uemi7s86yFal",
        "colab_type": "code",
        "colab": {
          "base_uri": "https://localhost:8080/",
          "height": 52
        },
        "outputId": "822ae5fb-75ac-4359-f49b-febc8d9feb99"
      },
      "source": [
        "#Python's built-in function - reduce()\n",
        "from functools import *\n",
        "lst = [1,2,3,4]\n",
        "print(reduce(lambda x,y: x+y, lst))\n",
        "\n",
        "#Own reduce function\n",
        "def myreduce(list1):\n",
        "  sum = 0\n",
        "  for i in list1:\n",
        "    sum += i\n",
        "  return sum\n",
        "\n",
        "print(myreduce([1,2,3,4]))\n",
        "\n"
      ],
      "execution_count": null,
      "outputs": [
        {
          "output_type": "stream",
          "text": [
            "10\n",
            "10\n"
          ],
          "name": "stdout"
        }
      ]
    },
    {
      "cell_type": "markdown",
      "metadata": {
        "id": "dpaKZkxu4Y06",
        "colab_type": "text"
      },
      "source": [
        "1.2 Write a Python program to implement your own myfilter() function which works exactly like Python's built-in function filter()"
      ]
    },
    {
      "cell_type": "code",
      "metadata": {
        "id": "PYK93-ee4XPg",
        "colab_type": "code",
        "colab": {
          "base_uri": "https://localhost:8080/",
          "height": 52
        },
        "outputId": "653da4af-0481-4296-b04d-94d54b1b0bc2"
      },
      "source": [
        "#Python's built-in function - filter()\n",
        "lst = [2,3,4,5,6,7,8]\n",
        "print(list(filter(lambda x: (x%2 == 0), lst)))\n",
        "\n",
        "#Own filter function\n",
        "def myfilter(lst):\n",
        "  new_lst = []\n",
        "  for i in lst:\n",
        "    if i%2 == 0:\n",
        "      new_lst.append(i)\n",
        "  return new_lst\n",
        "myfilter(lst)"
      ],
      "execution_count": null,
      "outputs": [
        {
          "output_type": "stream",
          "text": [
            "[2, 4, 6, 8]\n"
          ],
          "name": "stdout"
        },
        {
          "output_type": "execute_result",
          "data": {
            "text/plain": [
              "[2, 4, 6, 8]"
            ]
          },
          "metadata": {
            "tags": []
          },
          "execution_count": 29
        }
      ]
    },
    {
      "cell_type": "markdown",
      "metadata": {
        "id": "knfeXy4JyyM0",
        "colab_type": "text"
      },
      "source": [
        "2. Implement List comprehensions to produce the following lists. \n",
        "Write List comprehensions to produce the following lists."
      ]
    },
    {
      "cell_type": "markdown",
      "metadata": {
        "id": "XVFiUDNBysLX",
        "colab_type": "text"
      },
      "source": [
        ""
      ]
    },
    {
      "cell_type": "code",
      "metadata": {
        "id": "eygtZj0e6ToZ",
        "colab_type": "code",
        "colab": {
          "base_uri": "https://localhost:8080/",
          "height": 34
        },
        "outputId": "f0c6efd2-d766-41ab-e010-f7403c440b3e"
      },
      "source": [
        "lst = ['x','y','z']\n",
        "print([lst[i]*j for i in range(len(lst)) for j in range(1,5)])"
      ],
      "execution_count": null,
      "outputs": [
        {
          "output_type": "stream",
          "text": [
            "['x', 'xx', 'xxx', 'xxxx', 'y', 'yy', 'yyy', 'yyyy', 'z', 'zz', 'zzz', 'zzzz']\n"
          ],
          "name": "stdout"
        }
      ]
    },
    {
      "cell_type": "code",
      "metadata": {
        "id": "lm-iLptLzKn3",
        "colab_type": "code",
        "colab": {
          "base_uri": "https://localhost:8080/",
          "height": 34
        },
        "outputId": "582cc876-eb7b-4f0c-cd42-798feff67154"
      },
      "source": [
        "lst = ['x','y','z']\n",
        "print([lst[j]*i for i in range(1, 5) for j in range(len(lst))])"
      ],
      "execution_count": null,
      "outputs": [
        {
          "output_type": "stream",
          "text": [
            "['x', 'y', 'z', 'xx', 'yy', 'zz', 'xxx', 'yyy', 'zzz', 'xxxx', 'yyyy', 'zzzz']\n"
          ],
          "name": "stdout"
        }
      ]
    },
    {
      "cell_type": "code",
      "metadata": {
        "id": "cEdIDLBTR9ba",
        "colab_type": "code",
        "colab": {
          "base_uri": "https://localhost:8080/",
          "height": 34
        },
        "outputId": "00dcbfdf-70b1-4e26-ed11-05be58ccbd17"
      },
      "source": [
        "lst = [0, 1, 2]\n",
        "[[i+j] for i in range(len(lst)) for j in range(2,5)]"
      ],
      "execution_count": null,
      "outputs": [
        {
          "output_type": "execute_result",
          "data": {
            "text/plain": [
              "[[2], [3], [4], [3], [4], [5], [4], [5], [6]]"
            ]
          },
          "metadata": {
            "tags": []
          },
          "execution_count": 10
        }
      ]
    },
    {
      "cell_type": "code",
      "metadata": {
        "id": "r-LgpB4R_gZd",
        "colab_type": "code",
        "colab": {
          "base_uri": "https://localhost:8080/",
          "height": 34
        },
        "outputId": "8bc994f8-0ce7-4be2-fca5-418f8c30f844"
      },
      "source": [
        "[[i+j for i in [0, 1, 2, 3]] for j in range(2, 6)]"
      ],
      "execution_count": null,
      "outputs": [
        {
          "output_type": "execute_result",
          "data": {
            "text/plain": [
              "[[2, 3, 4, 5], [3, 4, 5, 6], [4, 5, 6, 7], [5, 6, 7, 8]]"
            ]
          },
          "metadata": {
            "tags": []
          },
          "execution_count": 6
        }
      ]
    },
    {
      "cell_type": "code",
      "metadata": {
        "id": "cKxGAF7gzLx_",
        "colab_type": "code",
        "colab": {
          "base_uri": "https://localhost:8080/",
          "height": 34
        },
        "outputId": "18af41f4-5ab6-45f1-9c5e-3030cbf2d259"
      },
      "source": [
        "list1 = [1,2,3]\n",
        "list2 = [1,2,3]\n",
        "[(j,i) for i in list1 for j in list2]"
      ],
      "execution_count": null,
      "outputs": [
        {
          "output_type": "execute_result",
          "data": {
            "text/plain": [
              "[(1, 1), (2, 1), (3, 1), (1, 2), (2, 2), (3, 2), (1, 3), (2, 3), (3, 3)]"
            ]
          },
          "metadata": {
            "tags": []
          },
          "execution_count": 11
        }
      ]
    },
    {
      "cell_type": "code",
      "metadata": {
        "id": "z0BSDgr4Ad0A",
        "colab_type": "code",
        "colab": {}
      },
      "source": [
        ""
      ],
      "execution_count": null,
      "outputs": []
    }
  ]
}